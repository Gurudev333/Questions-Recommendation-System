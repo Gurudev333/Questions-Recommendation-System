{
 "cells": [
  {
   "cell_type": "code",
   "execution_count": 1,
   "metadata": {
    "collapsed": true
   },
   "outputs": [],
   "source": [
    "import pandas as pd\n",
    "import numpy as np\n",
    "import graphlab \n",
    "from graphlab import SFrame\n",
    "from sklearn.cross_validation import train_test_split\n"
   ]
  },
  {
   "cell_type": "code",
   "execution_count": 2,
   "metadata": {
    "collapsed": false
   },
   "outputs": [
    {
     "name": "stdout",
     "output_type": "stream",
     "text": [
      "     user_id problem_id  attempts_range\n",
      "0   user_232  prob_6507               1\n",
      "1  user_3568  prob_2994               3\n",
      "2  user_1600  prob_5071               1\n",
      "3  user_2256   prob_703               1\n",
      "4  user_2321   prob_356               1\n"
     ]
    }
   ],
   "source": [
    "#Load trainSet and use header to known about trainset\n",
    "data=pd.read_csv('C:/Users/Gurudeo/Desktop/Personal/Recommendation/data_recommender.csv')\n",
    "print(data.head())\n"
   ]
  },
  {
   "cell_type": "code",
   "execution_count": 3,
   "metadata": {
    "collapsed": false
   },
   "outputs": [
    {
     "name": "stdout",
     "output_type": "stream",
     "text": [
      "     user_id  submission_count  problem_solved  contribution  country  \\\n",
      "0  user_3311                47              40             0      NaN   \n",
      "1  user_3028                63              52             0    India   \n",
      "2  user_2268               226             203            -8    Egypt   \n",
      "3   user_480               611             490             1  Ukraine   \n",
      "4   user_650               504             479            12   Russia   \n",
      "\n",
      "   follower_count  last_online_time_seconds  max_rating   rating  \\\n",
      "0               4                1504111645     348.337  330.849   \n",
      "1              17                1498998165     405.677  339.450   \n",
      "2              24                1505566052     307.339  284.404   \n",
      "3              94                1505257499     525.803  471.330   \n",
      "4               4                1496613433     548.739  486.525   \n",
      "\n",
      "           rank  registration_time_seconds  \n",
      "0  intermediate                 1466686436  \n",
      "1  intermediate                 1441893325  \n",
      "2      beginner                 1454267603  \n",
      "3      advanced                 1350720417  \n",
      "4      advanced                 1395560498  \n"
     ]
    }
   ],
   "source": [
    "user_data=pd.read_csv('C:/Users/Gurudeo/Desktop/Personal/Recommendation/user_data.csv')\n",
    "print(user_data.head())\n"
   ]
  },
  {
   "cell_type": "code",
   "execution_count": 4,
   "metadata": {
    "collapsed": false
   },
   "outputs": [
    {
     "name": "stdout",
     "output_type": "stream",
     "text": [
      "  problem_id level_type  points                                 tags\n",
      "0  prob_3649          H     NaN                                  NaN\n",
      "1  prob_6191          A     NaN                                  NaN\n",
      "2  prob_2020          F     NaN                                  NaN\n",
      "3   prob_313          A   500.0                greedy,implementation\n",
      "4   prob_101          A   500.0  constructive algorithms,greedy,math\n"
     ]
    }
   ],
   "source": [
    "problem_data=pd.read_csv('C:/Users/Gurudeo/Desktop/Personal/Recommendation/problem_data.csv')\n",
    "print(problem_data.head())\n"
   ]
  },
  {
   "cell_type": "code",
   "execution_count": 5,
   "metadata": {
    "collapsed": false
   },
   "outputs": [],
   "source": [
    "data.user_id=data.user_id.apply(lambda S:S.strip('user_'))\n",
    "user_data.user_id=user_data.user_id.apply(lambda S:S.strip('user_'))\n",
    "\n"
   ]
  },
  {
   "cell_type": "code",
   "execution_count": 6,
   "metadata": {
    "collapsed": false
   },
   "outputs": [],
   "source": [
    "data.problem_id=data.problem_id.apply(lambda S:S.strip('prob_'))\n",
    "problem_data.problem_id=problem_data.problem_id.apply(lambda S:S.strip('prob_'))\n"
   ]
  },
  {
   "cell_type": "code",
   "execution_count": 7,
   "metadata": {
    "collapsed": false
   },
   "outputs": [],
   "source": [
    "data['user_id']=data['user_id'].astype(int)\n",
    "user_data['user_id']=user_data['user_id'].astype(int)\n",
    "\n"
   ]
  },
  {
   "cell_type": "code",
   "execution_count": 8,
   "metadata": {
    "collapsed": false
   },
   "outputs": [],
   "source": [
    "data['problem_id']=data['problem_id'].astype(int)\n",
    "problem_data['problem_id']=problem_data['problem_id'].astype(int)\n"
   ]
  },
  {
   "cell_type": "code",
   "execution_count": 9,
   "metadata": {
    "collapsed": false
   },
   "outputs": [
    {
     "data": {
      "text/plain": [
       "dtype('int32')"
      ]
     },
     "execution_count": 9,
     "metadata": {},
     "output_type": "execute_result"
    }
   ],
   "source": [
    "data.user_id.dtype\n",
    "user_data.user_id.dtype\n"
   ]
  },
  {
   "cell_type": "code",
   "execution_count": 10,
   "metadata": {
    "collapsed": false
   },
   "outputs": [
    {
     "data": {
      "text/plain": [
       "dtype('int32')"
      ]
     },
     "execution_count": 10,
     "metadata": {},
     "output_type": "execute_result"
    }
   ],
   "source": [
    "data.problem_id.dtype\n",
    "problem_data.problem_id.dtype\n"
   ]
  },
  {
   "cell_type": "code",
   "execution_count": 11,
   "metadata": {
    "collapsed": false
   },
   "outputs": [
    {
     "name": "stdout",
     "output_type": "stream",
     "text": [
      "This non-commercial license of GraphLab Create for academic use is assigned to gurudev.16mt001109@cse.ism.ac.in and will expire on May 25, 2019.\n"
     ]
    },
    {
     "name": "stderr",
     "output_type": "stream",
     "text": [
      "[INFO] graphlab.cython.cy_server: GraphLab Create v2.1 started. Logging: C:\\Users\\Gurudeo\\AppData\\Local\\Temp\\graphlab_server_1527700867.log.0\n"
     ]
    }
   ],
   "source": [
    "data_SF=SFrame(data=data)\n"
   ]
  },
  {
   "cell_type": "code",
   "execution_count": 12,
   "metadata": {
    "collapsed": false
   },
   "outputs": [
    {
     "data": {
      "text/html": [
       "<div>\n",
       "<table border=\"1\" class=\"dataframe\">\n",
       "  <thead>\n",
       "    <tr style=\"text-align: right;\">\n",
       "      <th></th>\n",
       "      <th>problem_id</th>\n",
       "      <th>level_type</th>\n",
       "      <th>points</th>\n",
       "      <th>tags</th>\n",
       "    </tr>\n",
       "  </thead>\n",
       "  <tbody>\n",
       "    <tr>\n",
       "      <th>0</th>\n",
       "      <td>3649</td>\n",
       "      <td>H</td>\n",
       "      <td>NaN</td>\n",
       "      <td>NaN</td>\n",
       "    </tr>\n",
       "    <tr>\n",
       "      <th>1</th>\n",
       "      <td>6191</td>\n",
       "      <td>A</td>\n",
       "      <td>NaN</td>\n",
       "      <td>NaN</td>\n",
       "    </tr>\n",
       "    <tr>\n",
       "      <th>2</th>\n",
       "      <td>2020</td>\n",
       "      <td>F</td>\n",
       "      <td>NaN</td>\n",
       "      <td>NaN</td>\n",
       "    </tr>\n",
       "    <tr>\n",
       "      <th>3</th>\n",
       "      <td>313</td>\n",
       "      <td>A</td>\n",
       "      <td>500.0</td>\n",
       "      <td>greedy,implementation</td>\n",
       "    </tr>\n",
       "    <tr>\n",
       "      <th>4</th>\n",
       "      <td>101</td>\n",
       "      <td>A</td>\n",
       "      <td>500.0</td>\n",
       "      <td>constructive algorithms,greedy,math</td>\n",
       "    </tr>\n",
       "  </tbody>\n",
       "</table>\n",
       "</div>"
      ],
      "text/plain": [
       "   problem_id level_type  points                                 tags\n",
       "0        3649          H     NaN                                  NaN\n",
       "1        6191          A     NaN                                  NaN\n",
       "2        2020          F     NaN                                  NaN\n",
       "3         313          A   500.0                greedy,implementation\n",
       "4         101          A   500.0  constructive algorithms,greedy,math"
      ]
     },
     "execution_count": 12,
     "metadata": {},
     "output_type": "execute_result"
    }
   ],
   "source": [
    "problem_data.head()"
   ]
  },
  {
   "cell_type": "code",
   "execution_count": 13,
   "metadata": {
    "collapsed": false
   },
   "outputs": [],
   "source": [
    "problem_data['problem_id']=problem_data['problem_id'].astype(int)\n",
    "problem_data['level_type']=problem_data['level_type'].astype(str)\n",
    "problem_data['points']=problem_data['points'].astype(float)\n",
    "problem_data['tags']=problem_data['tags'].astype(str)\n"
   ]
  },
  {
   "cell_type": "code",
   "execution_count": 14,
   "metadata": {
    "collapsed": true
   },
   "outputs": [],
   "source": [
    "problem_data_sf=SFrame(data=problem_data)"
   ]
  },
  {
   "cell_type": "code",
   "execution_count": 15,
   "metadata": {
    "collapsed": false
   },
   "outputs": [
    {
     "data": {
      "text/html": [
       "<div>\n",
       "<table border=\"1\" class=\"dataframe\">\n",
       "  <thead>\n",
       "    <tr style=\"text-align: right;\">\n",
       "      <th></th>\n",
       "      <th>user_id</th>\n",
       "      <th>submission_count</th>\n",
       "      <th>problem_solved</th>\n",
       "      <th>contribution</th>\n",
       "      <th>country</th>\n",
       "      <th>follower_count</th>\n",
       "      <th>last_online_time_seconds</th>\n",
       "      <th>max_rating</th>\n",
       "      <th>rating</th>\n",
       "      <th>rank</th>\n",
       "      <th>registration_time_seconds</th>\n",
       "    </tr>\n",
       "  </thead>\n",
       "  <tbody>\n",
       "    <tr>\n",
       "      <th>0</th>\n",
       "      <td>3311</td>\n",
       "      <td>47</td>\n",
       "      <td>40</td>\n",
       "      <td>0</td>\n",
       "      <td>NaN</td>\n",
       "      <td>4</td>\n",
       "      <td>1504111645</td>\n",
       "      <td>348.337</td>\n",
       "      <td>330.849</td>\n",
       "      <td>intermediate</td>\n",
       "      <td>1466686436</td>\n",
       "    </tr>\n",
       "    <tr>\n",
       "      <th>1</th>\n",
       "      <td>3028</td>\n",
       "      <td>63</td>\n",
       "      <td>52</td>\n",
       "      <td>0</td>\n",
       "      <td>India</td>\n",
       "      <td>17</td>\n",
       "      <td>1498998165</td>\n",
       "      <td>405.677</td>\n",
       "      <td>339.450</td>\n",
       "      <td>intermediate</td>\n",
       "      <td>1441893325</td>\n",
       "    </tr>\n",
       "    <tr>\n",
       "      <th>2</th>\n",
       "      <td>2268</td>\n",
       "      <td>226</td>\n",
       "      <td>203</td>\n",
       "      <td>-8</td>\n",
       "      <td>Egypt</td>\n",
       "      <td>24</td>\n",
       "      <td>1505566052</td>\n",
       "      <td>307.339</td>\n",
       "      <td>284.404</td>\n",
       "      <td>beginner</td>\n",
       "      <td>1454267603</td>\n",
       "    </tr>\n",
       "    <tr>\n",
       "      <th>3</th>\n",
       "      <td>480</td>\n",
       "      <td>611</td>\n",
       "      <td>490</td>\n",
       "      <td>1</td>\n",
       "      <td>Ukraine</td>\n",
       "      <td>94</td>\n",
       "      <td>1505257499</td>\n",
       "      <td>525.803</td>\n",
       "      <td>471.330</td>\n",
       "      <td>advanced</td>\n",
       "      <td>1350720417</td>\n",
       "    </tr>\n",
       "    <tr>\n",
       "      <th>4</th>\n",
       "      <td>650</td>\n",
       "      <td>504</td>\n",
       "      <td>479</td>\n",
       "      <td>12</td>\n",
       "      <td>Russia</td>\n",
       "      <td>4</td>\n",
       "      <td>1496613433</td>\n",
       "      <td>548.739</td>\n",
       "      <td>486.525</td>\n",
       "      <td>advanced</td>\n",
       "      <td>1395560498</td>\n",
       "    </tr>\n",
       "  </tbody>\n",
       "</table>\n",
       "</div>"
      ],
      "text/plain": [
       "   user_id  submission_count  problem_solved  contribution  country  \\\n",
       "0     3311                47              40             0      NaN   \n",
       "1     3028                63              52             0    India   \n",
       "2     2268               226             203            -8    Egypt   \n",
       "3      480               611             490             1  Ukraine   \n",
       "4      650               504             479            12   Russia   \n",
       "\n",
       "   follower_count  last_online_time_seconds  max_rating   rating  \\\n",
       "0               4                1504111645     348.337  330.849   \n",
       "1              17                1498998165     405.677  339.450   \n",
       "2              24                1505566052     307.339  284.404   \n",
       "3              94                1505257499     525.803  471.330   \n",
       "4               4                1496613433     548.739  486.525   \n",
       "\n",
       "           rank  registration_time_seconds  \n",
       "0  intermediate                 1466686436  \n",
       "1  intermediate                 1441893325  \n",
       "2      beginner                 1454267603  \n",
       "3      advanced                 1350720417  \n",
       "4      advanced                 1395560498  "
      ]
     },
     "execution_count": 15,
     "metadata": {},
     "output_type": "execute_result"
    }
   ],
   "source": [
    "user_data.head()"
   ]
  },
  {
   "cell_type": "code",
   "execution_count": 16,
   "metadata": {
    "collapsed": true
   },
   "outputs": [],
   "source": [
    "user_data['rating']=user_data['rating'].astype(float)\n",
    "user_data['max_rating']=user_data['max_rating'].astype(float)\n",
    "user_data['country']=user_data['country'].astype(str)\n",
    "user_data['rank']=user_data['rank'].astype(str)\n",
    "\n"
   ]
  },
  {
   "cell_type": "code",
   "execution_count": 17,
   "metadata": {
    "collapsed": true
   },
   "outputs": [],
   "source": [
    "user_data_SF=SFrame(data=user_data)"
   ]
  },
  {
   "cell_type": "code",
   "execution_count": 22,
   "metadata": {
    "collapsed": false
   },
   "outputs": [],
   "source": [
    "train, test = graphlab.recommender.util.random_split_by_user(data_SF,user_id='user_id',item_id='problem_id')"
   ]
  },
  {
   "cell_type": "code",
   "execution_count": 24,
   "metadata": {
    "collapsed": false
   },
   "outputs": [
    {
     "data": {
      "text/html": [
       "<pre>Recsys training: model = popularity</pre>"
      ],
      "text/plain": [
       "Recsys training: model = popularity"
      ]
     },
     "metadata": {},
     "output_type": "display_data"
    },
    {
     "data": {
      "text/html": [
       "<pre>Preparing data set.</pre>"
      ],
      "text/plain": [
       "Preparing data set."
      ]
     },
     "metadata": {},
     "output_type": "display_data"
    },
    {
     "data": {
      "text/html": [
       "<pre>    Data has 146386 observations with 3571 users and 6544 items.</pre>"
      ],
      "text/plain": [
       "    Data has 146386 observations with 3571 users and 6544 items."
      ]
     },
     "metadata": {},
     "output_type": "display_data"
    },
    {
     "data": {
      "text/html": [
       "<pre>    Data prepared in: 0.693766s</pre>"
      ],
      "text/plain": [
       "    Data prepared in: 0.693766s"
      ]
     },
     "metadata": {},
     "output_type": "display_data"
    },
    {
     "data": {
      "text/html": [
       "<pre>146386 observations to process; with 6544 unique items.</pre>"
      ],
      "text/plain": [
       "146386 observations to process; with 6544 unique items."
      ]
     },
     "metadata": {},
     "output_type": "display_data"
    }
   ],
   "source": [
    "pop_model=graphlab.popularity_recommender.create(train,user_id='user_id',item_id='problem_id',target='attempts_range',\n",
    "                                                user_data=user_data_SF,item_data=problem_data_sf)"
   ]
  },
  {
   "cell_type": "code",
   "execution_count": 25,
   "metadata": {
    "collapsed": false
   },
   "outputs": [
    {
     "name": "stdout",
     "output_type": "stream",
     "text": [
      "\n",
      "Precision and recall summary statistics by cutoff\n",
      "+--------+-------------------+-------------------+\n",
      "| cutoff |   mean_precision  |    mean_recall    |\n",
      "+--------+-------------------+-------------------+\n",
      "|   1    |        0.0        |        0.0        |\n",
      "|   2    |        0.0        |        0.0        |\n",
      "|   3    | 0.000343288705802 | 0.000128733264676 |\n",
      "|   4    | 0.000257466529351 | 0.000128733264676 |\n",
      "|   5    | 0.000205973223481 | 0.000128733264676 |\n",
      "|   6    | 0.000171644352901 | 0.000128733264676 |\n",
      "|   7    | 0.000147123731058 | 0.000128733264676 |\n",
      "|   8    | 0.000128733264676 | 0.000128733264676 |\n",
      "|   9    | 0.000114429568601 | 0.000128733264676 |\n",
      "|   10   |  0.00010298661174 | 0.000128733264676 |\n",
      "+--------+-------------------+-------------------+\n",
      "[10 rows x 3 columns]\n",
      "\n",
      "('\\nOverall RMSE: ', 1.0138826096512508)\n",
      "\n",
      "Per User RMSE (best)\n",
      "+---------+-------+-----------------+\n",
      "| user_id | count |       rmse      |\n",
      "+---------+-------+-----------------+\n",
      "|   292   |   1   | 0.0456621004566 |\n",
      "+---------+-------+-----------------+\n",
      "[1 rows x 3 columns]\n",
      "\n",
      "\n",
      "Per User RMSE (worst)\n",
      "+---------+-------+---------------+\n",
      "| user_id | count |      rmse     |\n",
      "+---------+-------+---------------+\n",
      "|   1604  |   9   | 3.36814519515 |\n",
      "+---------+-------+---------------+\n",
      "[1 rows x 3 columns]\n",
      "\n",
      "\n",
      "Per Item RMSE (best)\n",
      "+------------+-------+------+\n",
      "| problem_id | count | rmse |\n",
      "+------------+-------+------+\n",
      "|    5329    |   1   | 0.0  |\n",
      "+------------+-------+------+\n",
      "[1 rows x 3 columns]\n",
      "\n",
      "\n",
      "Per Item RMSE (worst)\n",
      "+------------+-------+------+\n",
      "| problem_id | count | rmse |\n",
      "+------------+-------+------+\n",
      "|    3135    |   1   | 6.0  |\n",
      "+------------+-------+------+\n",
      "[1 rows x 3 columns]\n",
      "\n"
     ]
    }
   ],
   "source": [
    "eve=pop_model.evaluate(test)"
   ]
  }
 ],
 "metadata": {
  "kernelspec": {
   "display_name": "Python 2",
   "language": "python",
   "name": "python2"
  },
  "language_info": {
   "codemirror_mode": {
    "name": "ipython",
    "version": 2
   },
   "file_extension": ".py",
   "mimetype": "text/x-python",
   "name": "python",
   "nbconvert_exporter": "python",
   "pygments_lexer": "ipython2",
   "version": "2.7.11"
  }
 },
 "nbformat": 4,
 "nbformat_minor": 0
}
