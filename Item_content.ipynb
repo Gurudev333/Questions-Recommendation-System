{
 "cells": [
  {
   "cell_type": "code",
   "execution_count": 1,
   "metadata": {
    "collapsed": true
   },
   "outputs": [],
   "source": [
    "import pandas as pd\n",
    "import numpy as np\n",
    "import graphlab \n",
    "from graphlab import SFrame\n",
    "from sklearn.cross_validation import train_test_split\n"
   ]
  },
  {
   "cell_type": "code",
   "execution_count": 2,
   "metadata": {
    "collapsed": false
   },
   "outputs": [
    {
     "name": "stdout",
     "output_type": "stream",
     "text": [
      "     user_id problem_id  attempts_range\n",
      "0   user_232  prob_6507               1\n",
      "1  user_3568  prob_2994               3\n",
      "2  user_1600  prob_5071               1\n",
      "3  user_2256   prob_703               1\n",
      "4  user_2321   prob_356               1\n"
     ]
    }
   ],
   "source": [
    "#Load trainSet and use header to known about trainset\n",
    "data=pd.read_csv('C:/Users/Gurudeo/Desktop/Personal/Recommendation/data_recommender.csv')\n",
    "print(data.head())\n"
   ]
  },
  {
   "cell_type": "code",
   "execution_count": 3,
   "metadata": {
    "collapsed": false
   },
   "outputs": [
    {
     "name": "stdout",
     "output_type": "stream",
     "text": [
      "     user_id  submission_count  problem_solved  contribution  country  \\\n",
      "0  user_3311                47              40             0      NaN   \n",
      "1  user_3028                63              52             0    India   \n",
      "2  user_2268               226             203            -8    Egypt   \n",
      "3   user_480               611             490             1  Ukraine   \n",
      "4   user_650               504             479            12   Russia   \n",
      "\n",
      "   follower_count  last_online_time_seconds  max_rating   rating  \\\n",
      "0               4                1504111645     348.337  330.849   \n",
      "1              17                1498998165     405.677  339.450   \n",
      "2              24                1505566052     307.339  284.404   \n",
      "3              94                1505257499     525.803  471.330   \n",
      "4               4                1496613433     548.739  486.525   \n",
      "\n",
      "           rank  registration_time_seconds  \n",
      "0  intermediate                 1466686436  \n",
      "1  intermediate                 1441893325  \n",
      "2      beginner                 1454267603  \n",
      "3      advanced                 1350720417  \n",
      "4      advanced                 1395560498  \n"
     ]
    }
   ],
   "source": [
    "user_data=pd.read_csv('C:/Users/Gurudeo/Desktop/Personal/Recommendation/user_data.csv')\n",
    "print(user_data.head())\n"
   ]
  },
  {
   "cell_type": "code",
   "execution_count": 4,
   "metadata": {
    "collapsed": false
   },
   "outputs": [
    {
     "name": "stdout",
     "output_type": "stream",
     "text": [
      "  problem_id level_type  points                                 tags\n",
      "0  prob_3649          H     NaN                                  NaN\n",
      "1  prob_6191          A     NaN                                  NaN\n",
      "2  prob_2020          F     NaN                                  NaN\n",
      "3   prob_313          A   500.0                greedy,implementation\n",
      "4   prob_101          A   500.0  constructive algorithms,greedy,math\n"
     ]
    }
   ],
   "source": [
    "problem_data=pd.read_csv('C:/Users/Gurudeo/Desktop/Personal/Recommendation/problem_data.csv')\n",
    "print(problem_data.head())\n"
   ]
  },
  {
   "cell_type": "code",
   "execution_count": 5,
   "metadata": {
    "collapsed": false
   },
   "outputs": [],
   "source": [
    "data.user_id=data.user_id.apply(lambda S:S.strip('user_'))\n",
    "user_data.user_id=user_data.user_id.apply(lambda S:S.strip('user_'))\n",
    "\n"
   ]
  },
  {
   "cell_type": "code",
   "execution_count": 6,
   "metadata": {
    "collapsed": false
   },
   "outputs": [],
   "source": [
    "data.problem_id=data.problem_id.apply(lambda S:S.strip('prob_'))\n",
    "problem_data.problem_id=problem_data.problem_id.apply(lambda S:S.strip('prob_'))\n"
   ]
  },
  {
   "cell_type": "code",
   "execution_count": 7,
   "metadata": {
    "collapsed": false
   },
   "outputs": [],
   "source": [
    "data['user_id']=data['user_id'].astype(int)\n",
    "user_data['user_id']=user_data['user_id'].astype(int)\n",
    "\n"
   ]
  },
  {
   "cell_type": "code",
   "execution_count": 8,
   "metadata": {
    "collapsed": false
   },
   "outputs": [],
   "source": [
    "data['problem_id']=data['problem_id'].astype(int)\n",
    "problem_data['problem_id']=problem_data['problem_id'].astype(int)\n"
   ]
  },
  {
   "cell_type": "code",
   "execution_count": 9,
   "metadata": {
    "collapsed": false
   },
   "outputs": [
    {
     "data": {
      "text/plain": [
       "dtype('int32')"
      ]
     },
     "execution_count": 9,
     "metadata": {},
     "output_type": "execute_result"
    }
   ],
   "source": [
    "data.user_id.dtype\n",
    "user_data.user_id.dtype\n"
   ]
  },
  {
   "cell_type": "code",
   "execution_count": 10,
   "metadata": {
    "collapsed": false
   },
   "outputs": [
    {
     "data": {
      "text/plain": [
       "dtype('int32')"
      ]
     },
     "execution_count": 10,
     "metadata": {},
     "output_type": "execute_result"
    }
   ],
   "source": [
    "data.problem_id.dtype\n",
    "problem_data.problem_id.dtype\n"
   ]
  },
  {
   "cell_type": "code",
   "execution_count": 11,
   "metadata": {
    "collapsed": false
   },
   "outputs": [
    {
     "name": "stdout",
     "output_type": "stream",
     "text": [
      "This non-commercial license of GraphLab Create for academic use is assigned to gurudev.16mt001109@cse.ism.ac.in and will expire on May 25, 2019.\n"
     ]
    },
    {
     "name": "stderr",
     "output_type": "stream",
     "text": [
      "[INFO] graphlab.cython.cy_server: GraphLab Create v2.1 started. Logging: C:\\Users\\Gurudeo\\AppData\\Local\\Temp\\graphlab_server_1527700867.log.0\n"
     ]
    }
   ],
   "source": [
    "data_SF=SFrame(data=data)\n"
   ]
  },
  {
   "cell_type": "code",
   "execution_count": 12,
   "metadata": {
    "collapsed": false
   },
   "outputs": [
    {
     "data": {
      "text/html": [
       "<div>\n",
       "<table border=\"1\" class=\"dataframe\">\n",
       "  <thead>\n",
       "    <tr style=\"text-align: right;\">\n",
       "      <th></th>\n",
       "      <th>problem_id</th>\n",
       "      <th>level_type</th>\n",
       "      <th>points</th>\n",
       "      <th>tags</th>\n",
       "    </tr>\n",
       "  </thead>\n",
       "  <tbody>\n",
       "    <tr>\n",
       "      <th>0</th>\n",
       "      <td>3649</td>\n",
       "      <td>H</td>\n",
       "      <td>NaN</td>\n",
       "      <td>NaN</td>\n",
       "    </tr>\n",
       "    <tr>\n",
       "      <th>1</th>\n",
       "      <td>6191</td>\n",
       "      <td>A</td>\n",
       "      <td>NaN</td>\n",
       "      <td>NaN</td>\n",
       "    </tr>\n",
       "    <tr>\n",
       "      <th>2</th>\n",
       "      <td>2020</td>\n",
       "      <td>F</td>\n",
       "      <td>NaN</td>\n",
       "      <td>NaN</td>\n",
       "    </tr>\n",
       "    <tr>\n",
       "      <th>3</th>\n",
       "      <td>313</td>\n",
       "      <td>A</td>\n",
       "      <td>500.0</td>\n",
       "      <td>greedy,implementation</td>\n",
       "    </tr>\n",
       "    <tr>\n",
       "      <th>4</th>\n",
       "      <td>101</td>\n",
       "      <td>A</td>\n",
       "      <td>500.0</td>\n",
       "      <td>constructive algorithms,greedy,math</td>\n",
       "    </tr>\n",
       "  </tbody>\n",
       "</table>\n",
       "</div>"
      ],
      "text/plain": [
       "   problem_id level_type  points                                 tags\n",
       "0        3649          H     NaN                                  NaN\n",
       "1        6191          A     NaN                                  NaN\n",
       "2        2020          F     NaN                                  NaN\n",
       "3         313          A   500.0                greedy,implementation\n",
       "4         101          A   500.0  constructive algorithms,greedy,math"
      ]
     },
     "execution_count": 12,
     "metadata": {},
     "output_type": "execute_result"
    }
   ],
   "source": [
    "problem_data.head()"
   ]
  },
  {
   "cell_type": "code",
   "execution_count": 13,
   "metadata": {
    "collapsed": false
   },
   "outputs": [],
   "source": [
    "problem_data['problem_id']=problem_data['problem_id'].astype(int)\n",
    "problem_data['level_type']=problem_data['level_type'].astype(str)\n",
    "problem_data['points']=problem_data['points'].astype(float)\n",
    "problem_data['tags']=problem_data['tags'].astype(str)\n"
   ]
  },
  {
   "cell_type": "code",
   "execution_count": 14,
   "metadata": {
    "collapsed": true
   },
   "outputs": [],
   "source": [
    "problem_data_sf=SFrame(data=problem_data)"
   ]
  },
  {
   "cell_type": "code",
   "execution_count": 15,
   "metadata": {
    "collapsed": false
   },
   "outputs": [
    {
     "data": {
      "text/html": [
       "<div>\n",
       "<table border=\"1\" class=\"dataframe\">\n",
       "  <thead>\n",
       "    <tr style=\"text-align: right;\">\n",
       "      <th></th>\n",
       "      <th>user_id</th>\n",
       "      <th>submission_count</th>\n",
       "      <th>problem_solved</th>\n",
       "      <th>contribution</th>\n",
       "      <th>country</th>\n",
       "      <th>follower_count</th>\n",
       "      <th>last_online_time_seconds</th>\n",
       "      <th>max_rating</th>\n",
       "      <th>rating</th>\n",
       "      <th>rank</th>\n",
       "      <th>registration_time_seconds</th>\n",
       "    </tr>\n",
       "  </thead>\n",
       "  <tbody>\n",
       "    <tr>\n",
       "      <th>0</th>\n",
       "      <td>3311</td>\n",
       "      <td>47</td>\n",
       "      <td>40</td>\n",
       "      <td>0</td>\n",
       "      <td>NaN</td>\n",
       "      <td>4</td>\n",
       "      <td>1504111645</td>\n",
       "      <td>348.337</td>\n",
       "      <td>330.849</td>\n",
       "      <td>intermediate</td>\n",
       "      <td>1466686436</td>\n",
       "    </tr>\n",
       "    <tr>\n",
       "      <th>1</th>\n",
       "      <td>3028</td>\n",
       "      <td>63</td>\n",
       "      <td>52</td>\n",
       "      <td>0</td>\n",
       "      <td>India</td>\n",
       "      <td>17</td>\n",
       "      <td>1498998165</td>\n",
       "      <td>405.677</td>\n",
       "      <td>339.450</td>\n",
       "      <td>intermediate</td>\n",
       "      <td>1441893325</td>\n",
       "    </tr>\n",
       "    <tr>\n",
       "      <th>2</th>\n",
       "      <td>2268</td>\n",
       "      <td>226</td>\n",
       "      <td>203</td>\n",
       "      <td>-8</td>\n",
       "      <td>Egypt</td>\n",
       "      <td>24</td>\n",
       "      <td>1505566052</td>\n",
       "      <td>307.339</td>\n",
       "      <td>284.404</td>\n",
       "      <td>beginner</td>\n",
       "      <td>1454267603</td>\n",
       "    </tr>\n",
       "    <tr>\n",
       "      <th>3</th>\n",
       "      <td>480</td>\n",
       "      <td>611</td>\n",
       "      <td>490</td>\n",
       "      <td>1</td>\n",
       "      <td>Ukraine</td>\n",
       "      <td>94</td>\n",
       "      <td>1505257499</td>\n",
       "      <td>525.803</td>\n",
       "      <td>471.330</td>\n",
       "      <td>advanced</td>\n",
       "      <td>1350720417</td>\n",
       "    </tr>\n",
       "    <tr>\n",
       "      <th>4</th>\n",
       "      <td>650</td>\n",
       "      <td>504</td>\n",
       "      <td>479</td>\n",
       "      <td>12</td>\n",
       "      <td>Russia</td>\n",
       "      <td>4</td>\n",
       "      <td>1496613433</td>\n",
       "      <td>548.739</td>\n",
       "      <td>486.525</td>\n",
       "      <td>advanced</td>\n",
       "      <td>1395560498</td>\n",
       "    </tr>\n",
       "  </tbody>\n",
       "</table>\n",
       "</div>"
      ],
      "text/plain": [
       "   user_id  submission_count  problem_solved  contribution  country  \\\n",
       "0     3311                47              40             0      NaN   \n",
       "1     3028                63              52             0    India   \n",
       "2     2268               226             203            -8    Egypt   \n",
       "3      480               611             490             1  Ukraine   \n",
       "4      650               504             479            12   Russia   \n",
       "\n",
       "   follower_count  last_online_time_seconds  max_rating   rating  \\\n",
       "0               4                1504111645     348.337  330.849   \n",
       "1              17                1498998165     405.677  339.450   \n",
       "2              24                1505566052     307.339  284.404   \n",
       "3              94                1505257499     525.803  471.330   \n",
       "4               4                1496613433     548.739  486.525   \n",
       "\n",
       "           rank  registration_time_seconds  \n",
       "0  intermediate                 1466686436  \n",
       "1  intermediate                 1441893325  \n",
       "2      beginner                 1454267603  \n",
       "3      advanced                 1350720417  \n",
       "4      advanced                 1395560498  "
      ]
     },
     "execution_count": 15,
     "metadata": {},
     "output_type": "execute_result"
    }
   ],
   "source": [
    "user_data.head()"
   ]
  },
  {
   "cell_type": "code",
   "execution_count": 16,
   "metadata": {
    "collapsed": true
   },
   "outputs": [],
   "source": [
    "user_data['rating']=user_data['rating'].astype(float)\n",
    "user_data['max_rating']=user_data['max_rating'].astype(float)\n",
    "user_data['country']=user_data['country'].astype(str)\n",
    "user_data['rank']=user_data['rank'].astype(str)\n",
    "\n"
   ]
  },
  {
   "cell_type": "code",
   "execution_count": 17,
   "metadata": {
    "collapsed": true
   },
   "outputs": [],
   "source": [
    "user_data_SF=SFrame(data=user_data)"
   ]
  },
  {
   "cell_type": "code",
   "execution_count": 22,
   "metadata": {
    "collapsed": false
   },
   "outputs": [],
   "source": [
    "train, test = graphlab.recommender.util.random_split_by_user(data_SF,user_id='user_id',item_id='problem_id')"
   ]
  },
  {
   "cell_type": "code",
   "execution_count": 33,
   "metadata": {
    "collapsed": false
   },
   "outputs": [
    {
     "name": "stdout",
     "output_type": "stream",
     "text": [
      "WARNING: The ItemContentRecommender model is still in beta.\n",
      "WARNING: This feature transformer is still in beta, and some interpretation rules may change in the future.\n",
      "('Applying transform:\\n', Class             : AutoVectorizer\n",
      "\n",
      "Model Fields\n",
      "------------\n",
      "Features          : ['level_type', 'points', 'tags']\n",
      "Excluded Features : ['problem_id']\n",
      "\n",
      "Column      Type   Interpretation  Transforms  Output Type\n",
      "----------  -----  --------------  ----------  -----------\n",
      "level_type  str    categorical     None        str        \n",
      "points      float  numerical       None        float      \n",
      "tags        str    categorical     None        str        \n",
      "\n",
      ")\n"
     ]
    },
    {
     "data": {
      "text/html": [
       "<pre>Recsys training: model = item_content_recommender</pre>"
      ],
      "text/plain": [
       "Recsys training: model = item_content_recommender"
      ]
     },
     "metadata": {},
     "output_type": "display_data"
    },
    {
     "name": "stdout",
     "output_type": "stream",
     "text": [
      "Defaulting to brute force instead of ball tree because there are multiple distance components.\n"
     ]
    },
    {
     "data": {
      "text/html": [
       "<pre>Starting brute force nearest neighbors model training.</pre>"
      ],
      "text/plain": [
       "Starting brute force nearest neighbors model training."
      ]
     },
     "metadata": {},
     "output_type": "display_data"
    },
    {
     "data": {
      "text/html": [
       "<pre>Starting pairwise querying.</pre>"
      ],
      "text/plain": [
       "Starting pairwise querying."
      ]
     },
     "metadata": {},
     "output_type": "display_data"
    },
    {
     "data": {
      "text/html": [
       "<pre>+--------------+---------+-------------+--------------+</pre>"
      ],
      "text/plain": [
       "+--------------+---------+-------------+--------------+"
      ]
     },
     "metadata": {},
     "output_type": "display_data"
    },
    {
     "data": {
      "text/html": [
       "<pre>| Query points | # Pairs | % Complete. | Elapsed Time |</pre>"
      ],
      "text/plain": [
       "| Query points | # Pairs | % Complete. | Elapsed Time |"
      ]
     },
     "metadata": {},
     "output_type": "display_data"
    },
    {
     "data": {
      "text/html": [
       "<pre>+--------------+---------+-------------+--------------+</pre>"
      ],
      "text/plain": [
       "+--------------+---------+-------------+--------------+"
      ]
     },
     "metadata": {},
     "output_type": "display_data"
    },
    {
     "data": {
      "text/html": [
       "<pre>| 1            | 6544    | 0.0152812   | 31.201ms     |</pre>"
      ],
      "text/plain": [
       "| 1            | 6544    | 0.0152812   | 31.201ms     |"
      ]
     },
     "metadata": {},
     "output_type": "display_data"
    },
    {
     "data": {
      "text/html": [
       "<pre>| 628          | 4109632 | 9.59658     | 1.03s        |</pre>"
      ],
      "text/plain": [
       "| 628          | 4109632 | 9.59658     | 1.03s        |"
      ]
     },
     "metadata": {},
     "output_type": "display_data"
    },
    {
     "data": {
      "text/html": [
       "<pre>| 1377         | 9011088 | 21.0422     | 2.03s        |</pre>"
      ],
      "text/plain": [
       "| 1377         | 9011088 | 21.0422     | 2.03s        |"
      ]
     },
     "metadata": {},
     "output_type": "display_data"
    },
    {
     "data": {
      "text/html": [
       "<pre>| 1957         | 1e+007  | 29.9053     | 3.03s        |</pre>"
      ],
      "text/plain": [
       "| 1957         | 1e+007  | 29.9053     | 3.03s        |"
      ]
     },
     "metadata": {},
     "output_type": "display_data"
    },
    {
     "data": {
      "text/html": [
       "<pre>| 2931         | 2e+007  | 44.7891     | 4.03s        |</pre>"
      ],
      "text/plain": [
       "| 2931         | 2e+007  | 44.7891     | 4.03s        |"
      ]
     },
     "metadata": {},
     "output_type": "display_data"
    },
    {
     "data": {
      "text/html": [
       "<pre>| 4100         | 3e+007  | 62.6528     | 5.03s        |</pre>"
      ],
      "text/plain": [
       "| 4100         | 3e+007  | 62.6528     | 5.03s        |"
      ]
     },
     "metadata": {},
     "output_type": "display_data"
    },
    {
     "data": {
      "text/html": [
       "<pre>| 5426         | 4e+007  | 82.9156     | 6.03s        |</pre>"
      ],
      "text/plain": [
       "| 5426         | 4e+007  | 82.9156     | 6.03s        |"
      ]
     },
     "metadata": {},
     "output_type": "display_data"
    },
    {
     "data": {
      "text/html": [
       "<pre>| Done         |         | 100         | 6.88s        |</pre>"
      ],
      "text/plain": [
       "| Done         |         | 100         | 6.88s        |"
      ]
     },
     "metadata": {},
     "output_type": "display_data"
    },
    {
     "data": {
      "text/html": [
       "<pre>+--------------+---------+-------------+--------------+</pre>"
      ],
      "text/plain": [
       "+--------------+---------+-------------+--------------+"
      ]
     },
     "metadata": {},
     "output_type": "display_data"
    },
    {
     "data": {
      "text/html": [
       "<pre>Warning: Column 'attempts_range' ignored.</pre>"
      ],
      "text/plain": [
       "Warning: Column 'attempts_range' ignored."
      ]
     },
     "metadata": {},
     "output_type": "display_data"
    },
    {
     "data": {
      "text/html": [
       "<pre>    To use this column as the target, set target = \"attempts_range\" and use a method that allows the use of a target.</pre>"
      ],
      "text/plain": [
       "    To use this column as the target, set target = \"attempts_range\" and use a method that allows the use of a target."
      ]
     },
     "metadata": {},
     "output_type": "display_data"
    },
    {
     "data": {
      "text/html": [
       "<pre>Preparing data set.</pre>"
      ],
      "text/plain": [
       "Preparing data set."
      ]
     },
     "metadata": {},
     "output_type": "display_data"
    },
    {
     "data": {
      "text/html": [
       "<pre>    Data has 146386 observations with 3528 users and 6544 items.</pre>"
      ],
      "text/plain": [
       "    Data has 146386 observations with 3528 users and 6544 items."
      ]
     },
     "metadata": {},
     "output_type": "display_data"
    },
    {
     "data": {
      "text/html": [
       "<pre>    Data prepared in: 0.724779s</pre>"
      ],
      "text/plain": [
       "    Data prepared in: 0.724779s"
      ]
     },
     "metadata": {},
     "output_type": "display_data"
    },
    {
     "data": {
      "text/html": [
       "<pre>Loading user-provided nearest items.</pre>"
      ],
      "text/plain": [
       "Loading user-provided nearest items."
      ]
     },
     "metadata": {},
     "output_type": "display_data"
    },
    {
     "data": {
      "text/html": [
       "<pre>Generating candidate set for working with new users.</pre>"
      ],
      "text/plain": [
       "Generating candidate set for working with new users."
      ]
     },
     "metadata": {},
     "output_type": "display_data"
    },
    {
     "data": {
      "text/html": [
       "<pre>Finished training in 0.162808s</pre>"
      ],
      "text/plain": [
       "Finished training in 0.162808s"
      ]
     },
     "metadata": {},
     "output_type": "display_data"
    }
   ],
   "source": [
    "Item_content_model=graphlab.item_content_recommender.create(problem_data_sf,item_id='problem_id',observation_data=train,user_id='user_id',\n",
    "                                                            weights='auto',similarity_metrics='auto', item_data_transform='auto',\n",
    "                                                            max_item_neighborhood_size=64, verbose=True)"
   ]
  },
  {
   "cell_type": "code",
   "execution_count": 34,
   "metadata": {
    "collapsed": false
   },
   "outputs": [
    {
     "name": "stdout",
     "output_type": "stream",
     "text": [
      "\n",
      "Precision and recall summary statistics by cutoff\n",
      "+--------+-----------------+-----------------+\n",
      "| cutoff |  mean_precision |   mean_recall   |\n",
      "+--------+-----------------+-----------------+\n",
      "|   1    |  0.119464469619 |  0.020936646646 |\n",
      "|   2    |  0.104016477858 | 0.0322905660627 |\n",
      "|   3    |  0.088225197391 |  0.040288765022 |\n",
      "|   4    |  0.076982492276 | 0.0479854813104 |\n",
      "|   5    | 0.0679711637487 | 0.0516244195952 |\n",
      "|   6    | 0.0609337452798 | 0.0551614121255 |\n",
      "|   7    | 0.0597322348095 | 0.0614776255575 |\n",
      "|   8    |  0.05754376931  | 0.0675625688091 |\n",
      "|   9    | 0.0544684746539 | 0.0723402018147 |\n",
      "|   10   | 0.0526261585994 |   0.0766285594  |\n",
      "+--------+-----------------+-----------------+\n",
      "[10 rows x 3 columns]\n",
      "\n"
     ]
    }
   ],
   "source": [
    "eval_item_content=Item_content_model.evaluate(test)"
   ]
  },
  {
   "cell_type": "code",
   "execution_count": null,
   "metadata": {
    "collapsed": true
   },
   "outputs": [],
   "source": []
  }
 ],
 "metadata": {
  "kernelspec": {
   "display_name": "Python 2",
   "language": "python",
   "name": "python2"
  },
  "language_info": {
   "codemirror_mode": {
    "name": "ipython",
    "version": 2
   },
   "file_extension": ".py",
   "mimetype": "text/x-python",
   "name": "python",
   "nbconvert_exporter": "python",
   "pygments_lexer": "ipython2",
   "version": "2.7.11"
  }
 },
 "nbformat": 4,
 "nbformat_minor": 0
}
